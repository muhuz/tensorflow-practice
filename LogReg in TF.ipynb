{
 "cells": [
  {
   "cell_type": "code",
   "execution_count": 15,
   "metadata": {},
   "outputs": [],
   "source": [
    "import matplotlib.pyplot as plt\n",
    "import numpy as np\n",
    "\n",
    "from sklearn.datasets import make_moons\n",
    "import tensorflow as tf"
   ]
  },
  {
   "cell_type": "code",
   "execution_count": 44,
   "metadata": {},
   "outputs": [],
   "source": [
    "moons = make_moons()\n",
    "\n",
    "train, labels = moons[0], moons[1].reshape((-1, 1))\n",
    "m, n = train.shape\n",
    "train_std = (train - np.mean(train, axis=0))/np.std(train, axis=0)\n",
    "norm_bias = np.c_[np.ones((m, 1)), train]\n",
    "\n",
    "x_train = norm_bias[:80]\n",
    "y_train = labels[:80]\n",
    "\n",
    "x_test = norm_bias[80:]\n",
    "y_test = labels[80:]\n",
    "\n",
    "n_epoch = 1000\n",
    "learning_rate = 0.01"
   ]
  },
  {
   "cell_type": "code",
   "execution_count": 45,
   "metadata": {},
   "outputs": [
    {
     "data": {
      "text/plain": [
       "[<matplotlib.lines.Line2D at 0x1a32b9d9e8>]"
      ]
     },
     "execution_count": 45,
     "metadata": {},
     "output_type": "execute_result"
    },
    {
     "data": {
      "image/png": "[encoded data removed]",
      "text/plain": [
       "<Figure size 432x288 with 1 Axes>"
      ]
     },
     "metadata": {},
     "output_type": "display_data"
    }
   ],
   "source": [
    "plt.plot(train[:50, 0], train[:50, 1], 'bo')"
   ]
  },
  {
   "cell_type": "code",
   "execution_count": 46,
   "metadata": {},
   "outputs": [],
   "source": [
    "def random_batch(X_train, y_train, batch_size):\n",
    "    rnd_idx = np.random.randint(0, len(X_train), batch_size)\n",
    "    X_batch, y_batch = X_train[rnd_idx], y_train[rnd_idx]\n",
    "    return X_batch, y_batch"
   ]
  },
  {
   "cell_type": "code",
   "execution_count": 47,
   "metadata": {},
   "outputs": [],
   "source": [
    "def sigmoid(x):\n",
    "    return 1/(1+tf.exp(-x))"
   ]
  },
  {
   "cell_type": "code",
   "execution_count": 49,
   "metadata": {},
   "outputs": [
    {
     "name": "stdout",
     "output_type": "stream",
     "text": [
      "Epoch: 0 \tLogLoss =  [[0.89684784]]\n",
      "Epoch: 100 \tLogLoss =  [[0.70801365]]\n",
      "Epoch: 200 \tLogLoss =  [[0.60201657]]\n",
      "Epoch: 300 \tLogLoss =  [[0.65560675]]\n",
      "Epoch: 400 \tLogLoss =  [[0.46966568]]\n",
      "Epoch: 500 \tLogLoss =  [[0.54026985]]\n",
      "Epoch: 600 \tLogLoss =  [[0.43988958]]\n",
      "Epoch: 700 \tLogLoss =  [[0.46177828]]\n",
      "Epoch: 800 \tLogLoss =  [[0.41467696]]\n",
      "Epoch: 900 \tLogLoss =  [[0.3740675]]\n"
     ]
    }
   ],
   "source": [
    "tf.reset_default_graph()\n",
    "\n",
    "X = tf.placeholder(tf.float32, [None, n+1])\n",
    "y = tf.placeholder(tf.float32, [None, 1])\n",
    "theta = tf.Variable(tf.random_uniform([n+1, 1], -1.0, 1.0), name='theta')\n",
    "prob = tf.sigmoid(tf.matmul(X, theta))\n",
    "pred = tf.round(prob)\n",
    "\n",
    "epsilon = 1e-7  # to avoid an overflow when computing the log\n",
    "logloss = 1/50 * (-tf.matmul(tf.transpose(y), tf.log(prob + epsilon)) - tf.matmul(tf.transpose(1-y), tf.log(1 - prob + epsilon)))\n",
    "gradient = 1/50 * tf.matmul(tf.transpose(X), prob-y)\n",
    "training_op = tf.assign(theta, theta-learning_rate * gradient)\n",
    "\n",
    "init = tf.global_variables_initializer()\n",
    "\n",
    "with tf.Session() as sess:\n",
    "    sess.run(init)\n",
    "    \n",
    "    for epoch in range(n_epoch):\n",
    "        rand_x, rand_y = random_batch(x_train, y_train, 50)\n",
    "        if epoch % 100 == 0:\n",
    "            print(\"Epoch:\", epoch, \"\\tLogLoss = \", sess.run(logloss, feed_dict={X: rand_x, y: rand_y}))\n",
    "        sess.run(training_op, feed_dict={X: rand_x, y: rand_y})\n",
    "        \n",
    "        \n",
    "        final_theta = theta.eval()"
   ]
  },
  {
   "cell_type": "code",
   "execution_count": null,
   "metadata": {},
   "outputs": [],
   "source": [
    "tf.reset_default_graph()\n",
    "\n",
    "X = tf.placeholder(tf.float32, [None, n+1])\n",
    "y = tf.placeholder(tf.float32, [None, 1])\n",
    "theta = tf.Variable(tf.random_uniform([n+1, 1], -1.0, 1.0), name='theta')\n",
    "prob = tf.sigmoid(-tf.matmul(X, theta))\n",
    "pred = tf.round(prob)\n",
    "\n",
    "logloss = -tf.reduce_mean(pred * tf.log(prob) + (1-pred) * tf.log(1-prob))\n",
    "optimizer = tf.train.GradientDescentOptimizer(learning_rate=learning_rate)\n",
    "training_op = optimizer.minimize(logloss)\n",
    "\n",
    "init = tf.global_variables_initializer()\n",
    "\n",
    "with tf.Session() as sess:\n",
    "    sess.run(init)\n",
    "    \n",
    "    for epoch in range(n_epoch):\n",
    "        rand_x, rand_y = random_batch(x_train, y_train, 50)\n",
    "        if epoch % 100 == 0:\n",
    "            print(\"Epoch:\", epoch, \"LogLoss = \", sess.run(logloss, feed_dict={X: rand_x, y: rand_y}))\n",
    "        sess.run(training_op, feed_dict={X: rand_x, y: rand_y})\n",
    "        \n",
    "        final_theta = theta.eval()"
   ]
  },
  {
   "cell_type": "code",
   "execution_count": null,
   "metadata": {},
   "outputs": [],
   "source": [
    "final_theta"
   ]
  },
  {
   "cell_type": "code",
   "execution_count": null,
   "metadata": {},
   "outputs": [],
   "source": [
    "probs = sigmoid(np.matmul(norm_bias, final_theta))"
   ]
  },
  {
   "cell_type": "code",
   "execution_count": null,
   "metadata": {},
   "outputs": [],
   "source": [
    "def predict_class(probs, cutoff):\n",
    "    return np.array([1 if i > cutoff else 0 for i in probs])"
   ]
  },
  {
   "cell_type": "code",
   "execution_count": null,
   "metadata": {},
   "outputs": [],
   "source": [
    "probs"
   ]
  },
  {
   "cell_type": "code",
   "execution_count": null,
   "metadata": {},
   "outputs": [],
   "source": [
    "preds = predict_class(probs, 0.5)"
   ]
  },
  {
   "cell_type": "code",
   "execution_count": null,
   "metadata": {},
   "outputs": [],
   "source": [
    "preds"
   ]
  },
  {
   "cell_type": "code",
   "execution_count": null,
   "metadata": {},
   "outputs": [],
   "source": [
    "np.sum([1 for i in preds.reshape((-1, 1)) - labels if i != 0])/preds.shape[0]"
   ]
  },
  {
   "cell_type": "markdown",
   "metadata": {
    "heading_collapsed": true
   },
   "source": [
    "# Sklearn Logistic Regression"
   ]
  },
  {
   "cell_type": "code",
   "execution_count": null,
   "metadata": {
    "hidden": true
   },
   "outputs": [],
   "source": [
    "from sklearn.linear_model import LogisticRegression "
   ]
  },
  {
   "cell_type": "code",
   "execution_count": null,
   "metadata": {
    "hidden": true
   },
   "outputs": [],
   "source": [
    "clf = LogisticRegression().fit(norm_bias[:50, :], labels[:50].reshape(-1, ))"
   ]
  },
  {
   "cell_type": "code",
   "execution_count": null,
   "metadata": {
    "hidden": true
   },
   "outputs": [],
   "source": [
    "sk_preds = clf.predict(norm_bias[50:, :]).reshape((-1, 1))"
   ]
  },
  {
   "cell_type": "code",
   "execution_count": null,
   "metadata": {
    "hidden": true
   },
   "outputs": [],
   "source": [
    "np.sum(sk_preds - labels[50:])/sk_preds.shape[0]"
   ]
  },
  {
   "cell_type": "code",
   "execution_count": null,
   "metadata": {
    "hidden": true
   },
   "outputs": [],
   "source": []
  }
 ],
 "metadata": {
  "kernelspec": {
   "display_name": "Python 3",
   "language": "python",
   "name": "python3"
  },
  "language_info": {
   "codemirror_mode": {
    "name": "ipython",
    "version": 3
   },
   "file_extension": ".py",
   "mimetype": "text/x-python",
   "name": "python",
   "nbconvert_exporter": "python",
   "pygments_lexer": "ipython3",
   "version": "3.6.5"
  }
 },
 "nbformat": 4,
 "nbformat_minor": 2
}
